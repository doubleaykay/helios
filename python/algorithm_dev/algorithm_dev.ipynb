{
 "cells": [
  {
   "cell_type": "code",
   "execution_count": 1,
   "metadata": {},
   "outputs": [],
   "source": [
    "import numpy as np\n",
    "import suncalc\n",
    "import drawSvg as draw"
   ]
  },
  {
   "cell_type": "code",
   "execution_count": 2,
   "metadata": {},
   "outputs": [
    {
     "data": {
      "text/html": [
       "<img src=\"data:image/svg+xml;base64,PD94bWwgdmVyc2lvbj0iMS4wIiBlbmNvZGluZz0iVVRGLTgiPz4KPHN2ZyB4bWxucz0iaHR0cDovL3d3dy53My5vcmcvMjAwMC9zdmciIHhtbG5zOnhsaW5rPSJodHRwOi8vd3d3LnczLm9yZy8xOTk5L3hsaW5rIgogICAgIHdpZHRoPSI0MDAiIGhlaWdodD0iMjAwIiB2aWV3Qm94PSItMTAwLjAgLTUwLjAgMjAwIDEwMCI+CjxkZWZzPgo8bWFya2VyIG1hcmtlcldpZHRoPSI0LjAiIG1hcmtlckhlaWdodD0iNC4wIiB2aWV3Qm94PSItMC4xIC0wLjUgMS4wIDEuMCIgb3JpZW50PSJhdXRvIiBpZD0iZDAiPgo8cGF0aCBkPSJNLTAuMSwwLjUgTC0wLjEsLTAuNSBMMC45LDAgWiIgZmlsbD0icmVkIiAvPgo8L21hcmtlcj4KPC9kZWZzPgo8cGF0aCBkPSJNLTgwLDQ1IEw3MCw0OSBMOTUsLTQ5IEwtOTAsLTQwIiBmaWxsPSIjZWVlZTAwIiBzdHJva2U9ImJsYWNrIiAvPgo8cmVjdCB4PSIwIiB5PSItNTAiIHdpZHRoPSI0MCIgaGVpZ2h0PSI1MCIgZmlsbD0iIzEyNDhmZiI+Cjx0aXRsZT5PdXIgZmlyc3QgcmVjdGFuZ2xlPC90aXRsZT4KPC9yZWN0Pgo8Y2lyY2xlIGN4PSItNDAiIGN5PSIxMCIgcj0iMzAiIGZpbGw9InJlZCIgc3Ryb2tlLXdpZHRoPSIyIiBzdHJva2U9ImJsYWNrIiAvPgo8cGF0aCBkPSJNLTMwLC01IGw2MCwtMzAgaC03MCBaIiBzdHJva2Utd2lkdGg9IjIiIHN0cm9rZT0iZ3JlZW4iIGZpbGw9ImJsYWNrIiBmaWxsLW9wYWNpdHk9IjAuNSIgLz4KPGNpcmNsZSBjeD0iNjAiIGN5PSIyMCIgcj0iMjAiIHN0cm9rZS1kYXNoYXJyYXk9IjczLjMwMzgyODU4Mzc2MTg0IDUyLjM1OTg3NzU1OTgyOTg4IiBzdHJva2UtZGFzaG9mZnNldD0iLTMxLjQxNTkyNjUzNTg5NzkzIiBzdHJva2U9InJlZCIgc3Ryb2tlLXdpZHRoPSI1IiBmaWxsPSJyZWQiIGZpbGwtb3BhY2l0eT0iMC4yIiAvPgo8cGF0aCBkPSJNNzAuMCwyLjY3OTQ5MTkyNDMxMTIyOSBBMjAsMjAsMCwxLDAsNTkuOTk5OTk5OTk5OTk5OTksNDAuMCIgc3Ryb2tlPSJncmVlbiIgc3Ryb2tlLXdpZHRoPSIzIiBmaWxsPSJub25lIiAvPgo8cGF0aCBkPSJNNTkuOTk5OTk5OTk5OTk5OTksNDAuMCBBMjAsMjAsMCwxLDEsNzAuMCwyLjY3OTQ5MTkyNDMxMTIyOSIgc3Ryb2tlPSJibHVlIiBzdHJva2Utd2lkdGg9IjEiIGZpbGw9ImJsYWNrIiBmaWxsLW9wYWNpdHk9IjAuMyIgLz4KPHBhdGggZD0iTTIwLDQwIEwyMCwyNyBMMCwyMCIgc3Ryb2tlPSJyZWQiIHN0cm9rZS13aWR0aD0iMiIgZmlsbD0ibm9uZSIgbWFya2VyLWVuZD0idXJsKCNkMCkiIC8+CjxwYXRoIGQ9Ik0zMCwyMCBMMCwxMCIgc3Ryb2tlPSJyZWQiIHN0cm9rZS13aWR0aD0iMiIgZmlsbD0ibm9uZSIgbWFya2VyLWVuZD0idXJsKCNkMCkiIC8+Cjwvc3ZnPg==\">"
      ],
      "text/plain": [
       "<drawSvg.drawing.Drawing at 0x7f02fdcaed30>"
      ]
     },
     "execution_count": 2,
     "metadata": {},
     "output_type": "execute_result"
    }
   ],
   "source": [
    "d = draw.Drawing(200, 100, origin='center', displayInline=False)\n",
    "\n",
    "# Draw an irregular polygon\n",
    "d.append(draw.Lines(-80, -45,\n",
    "                    70, -49,\n",
    "                    95, 49,\n",
    "                    -90, 40,\n",
    "                    close=False,\n",
    "            fill='#eeee00',\n",
    "            stroke='black'))\n",
    "\n",
    "# Draw a rectangle\n",
    "r = draw.Rectangle(0,0,40,50, fill='#1248ff')\n",
    "r.appendTitle(\"Our first rectangle\")  # Add a tooltip\n",
    "d.append(r)\n",
    "\n",
    "# Draw a circle\n",
    "d.append(draw.Circle(-40, -10, 30,\n",
    "            fill='red', stroke_width=2, stroke='black'))\n",
    "\n",
    "# Draw an arbitrary path (a triangle in this case)\n",
    "p = draw.Path(stroke_width=2, stroke='green',\n",
    "              fill='black', fill_opacity=0.5)\n",
    "p.M(-30,5)  # Start path at point (-30, 5)\n",
    "p.l(60,30)  # Draw line to (60, 30)\n",
    "p.h(-70)    # Draw horizontal line to x=-70\n",
    "p.Z()       # Draw line to start\n",
    "d.append(p)\n",
    "\n",
    "# Draw multiple circular arcs\n",
    "d.append(draw.ArcLine(60,-20,20,60,270,\n",
    "            stroke='red', stroke_width=5, fill='red', fill_opacity=0.2))\n",
    "d.append(draw.Arc(60,-20,20,60,270,cw=False,\n",
    "            stroke='green', stroke_width=3, fill='none'))\n",
    "d.append(draw.Arc(60,-20,20,270,60,cw=True,\n",
    "            stroke='blue', stroke_width=1, fill='black', fill_opacity=0.3))\n",
    "\n",
    "# Draw arrows\n",
    "arrow = draw.Marker(-0.1, -0.5, 0.9, 0.5, scale=4, orient='auto')\n",
    "arrow.append(draw.Lines(-0.1, -0.5, -0.1, 0.5, 0.9, 0, fill='red', close=True))\n",
    "p = draw.Path(stroke='red', stroke_width=2, fill='none',\n",
    "              marker_end=arrow)  # Add an arrow to the end of a path\n",
    "p.M(20, -40).L(20, -27).L(0, -20)  # Chain multiple path operations\n",
    "d.append(p)\n",
    "d.append(draw.Line(30, -20, 0, -10,\n",
    "            stroke='red', stroke_width=2, fill='none',\n",
    "            marker_end=arrow))  # Add an arrow to the end of a line\n",
    "\n",
    "d.setPixelScale(2)  # Set number of pixels per geometry unit\n",
    "#d.setRenderSize(400,200)  # Alternative to setPixelScale\n",
    "d.saveSvg('example.svg')\n",
    "d.savePng('example.png')\n",
    "\n",
    "# Display in Jupyter notebook\n",
    "# d.rasterize()  # Display as PNG\n",
    "d  # Display as SVG"
   ]
  },
  {
   "cell_type": "code",
   "execution_count": 5,
   "metadata": {},
   "outputs": [
    {
     "data": {
      "text/html": [
       "<img src=\"data:image/svg+xml;base64,PD94bWwgdmVyc2lvbj0iMS4wIiBlbmNvZGluZz0iVVRGLTgiPz4KPHN2ZyB4bWxucz0iaHR0cDovL3d3dy53My5vcmcvMjAwMC9zdmciIHhtbG5zOnhsaW5rPSJodHRwOi8vd3d3LnczLm9yZy8xOTk5L3hsaW5rIgogICAgIHdpZHRoPSI0MDAiIGhlaWdodD0iMjAwIiB2aWV3Qm94PSItMTAwLjAgLTUwLjAgMjAwIDEwMCI+CjxkZWZzPgo8L2RlZnM+CjxyZWN0IHg9IjAiIHk9Ii01MCIgd2lkdGg9IjQwIiBoZWlnaHQ9IjUwIiBmaWxsPSIjMTI0OGZmIj4KPHRpdGxlPk91ciBmaXJzdCByZWN0YW5nbGU8L3RpdGxlPgo8L3JlY3Q+Cjwvc3ZnPg==\">"
      ],
      "text/plain": [
       "<drawSvg.drawing.Drawing at 0x7f02fdc7fb80>"
      ]
     },
     "execution_count": 5,
     "metadata": {},
     "output_type": "execute_result"
    }
   ],
   "source": [
    "d = draw.Drawing(200, 100, origin='center', displayInline=False)\n",
    "\n",
    "# Draw a rectangle\n",
    "r = draw.Rectangle(0,0,40,50, fill='#1248ff')\n",
    "r.appendTitle(\"Our first rectangle\")  # Add a tooltip\n",
    "d.append(r)\n",
    "\n",
    "d.setPixelScale(2)  # Set number of pixels per geometry unit\n",
    "#d.setRenderSize(400,200)  # Alternative to setPixelScale\n",
    "# d.saveSvg('example.svg')\n",
    "\n",
    "d  # Display as SVG"
   ]
  },
  {
   "cell_type": "code",
   "execution_count": 12,
   "metadata": {},
   "outputs": [],
   "source": [
    "# get times in year\n",
    "year = 2021\n",
    "minutes = np.arange(str(year), str(year+1), dtype='datetime64[m]')"
   ]
  },
  {
   "cell_type": "code",
   "execution_count": 13,
   "metadata": {},
   "outputs": [
    {
     "data": {
      "text/plain": [
       "numpy.datetime64('2021-01-01T00:00')"
      ]
     },
     "execution_count": 13,
     "metadata": {},
     "output_type": "execute_result"
    }
   ],
   "source": [
    "minutes[0]"
   ]
  },
  {
   "cell_type": "code",
   "execution_count": 17,
   "metadata": {},
   "outputs": [],
   "source": [
    "lon = 71.0589\n",
    "lat = 42.3601\n",
    "positions = suncalc.get_position(minutes, lon, lat)\n",
    "times = suncalc.get_times(minutes[0], lon, lat)"
   ]
  },
  {
   "cell_type": "code",
   "execution_count": 18,
   "metadata": {},
   "outputs": [
    {
     "data": {
      "text/plain": [
       "{'solar_noon': Timestamp('1970-01-01 07:20:31.601835787'),\n",
       " 'nadir': Timestamp('1969-12-31 19:20:31.601835788'),\n",
       " 'sunrise': Timestamp('1970-01-01 02:46:15.452511012'),\n",
       " 'sunset': Timestamp('1970-01-01 11:54:47.751160562'),\n",
       " 'sunrise_end': Timestamp('1970-01-01 02:49:38.051331639'),\n",
       " 'sunset_start': Timestamp('1970-01-01 11:51:25.152339935'),\n",
       " 'dawn': Timestamp('1970-01-01 02:14:26.996799409'),\n",
       " 'dusk': Timestamp('1970-01-01 12:26:36.206872165'),\n",
       " 'nautical_dawn': Timestamp('1970-01-01 01:39:08.629894852'),\n",
       " 'nautical_dusk': Timestamp('1970-01-01 13:01:54.573776721'),\n",
       " 'night_end': Timestamp('1970-01-01 01:05:02.916549146'),\n",
       " 'night': Timestamp('1970-01-01 13:36:00.287122428'),\n",
       " 'golden_hour_end': Timestamp('1970-01-01 03:31:22.859753072'),\n",
       " 'golden_hour': Timestamp('1970-01-01 11:09:40.343918502')}"
      ]
     },
     "execution_count": 18,
     "metadata": {},
     "output_type": "execute_result"
    }
   ],
   "source": [
    "times"
   ]
  },
  {
   "cell_type": "code",
   "execution_count": null,
   "metadata": {},
   "outputs": [],
   "source": []
  }
 ],
 "metadata": {
  "kernelspec": {
   "display_name": "Python 3",
   "language": "python",
   "name": "python3"
  },
  "language_info": {
   "codemirror_mode": {
    "name": "ipython",
    "version": 3
   },
   "file_extension": ".py",
   "mimetype": "text/x-python",
   "name": "python",
   "nbconvert_exporter": "python",
   "pygments_lexer": "ipython3",
   "version": "3.8.5"
  }
 },
 "nbformat": 4,
 "nbformat_minor": 4
}

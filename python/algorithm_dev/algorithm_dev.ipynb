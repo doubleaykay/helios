{
 "cells": [
  {
   "cell_type": "code",
   "execution_count": 24,
   "metadata": {},
   "outputs": [],
   "source": [
    "import numpy as np\n",
    "import suncalc\n",
    "import drawSvg as draw\n",
    "\n",
    "import random"
   ]
  },
  {
   "cell_type": "code",
   "execution_count": null,
   "metadata": {},
   "outputs": [],
   "source": []
  },
  {
   "cell_type": "code",
   "execution_count": 30,
   "metadata": {
    "scrolled": true
   },
   "outputs": [],
   "source": [
    "width = 1920\n",
    "height = 1080\n",
    "\n",
    "x_low = -1 * width / 2\n",
    "x_high = -1 * x_low\n",
    "\n",
    "y_low = -1 * height / 2\n",
    "y_high = -1 * y_low\n",
    "\n",
    "x_tick = width / 365 # days in a year\n",
    "y_tick = height / 1440 # min in a day\n",
    "\n",
    "# d = draw.Drawing(width, height, origin='center', displayInline=False)\n",
    "d = draw.Drawing(width, height, displayInline=False)\n",
    "\n",
    "# Draw a rectangle\n",
    "\n",
    "# random color for now\n",
    "y = 0\n",
    "x = 0\n",
    "\n",
    "while x <= width:\n",
    "    y = 0\n",
    "    while y <= height:\n",
    "        color = \"%06x\" % random.randint(0, 0xFFFFFF)\n",
    "        r = draw.Rectangle(x,y,x_tick,y_tick, fill=f'#{color}')\n",
    "        d.append(r)\n",
    "        y += y_tick\n",
    "    x += x_tick\n",
    "\n",
    "d.setPixelScale(2)  # Set number of pixels per geometry unit\n",
    "#d.setRenderSize(400,200)  # Alternative to setPixelScale\n",
    "d.saveSvg('for_dan.svg')\n",
    "\n",
    "# d  # Display as SVG"
   ]
  },
  {
   "cell_type": "code",
   "execution_count": 21,
   "metadata": {},
   "outputs": [
    {
     "data": {
      "text/plain": [
       "'339397'"
      ]
     },
     "execution_count": 21,
     "metadata": {},
     "output_type": "execute_result"
    }
   ],
   "source": [
    "# print(x_low,x_high,y_low,y_high,x_tick,y_tick)\n",
    "color"
   ]
  },
  {
   "cell_type": "code",
   "execution_count": 12,
   "metadata": {},
   "outputs": [],
   "source": [
    "# get times in year\n",
    "year = 2021\n",
    "minutes = np.arange(str(year), str(year+1), dtype='datetime64[m]')"
   ]
  },
  {
   "cell_type": "code",
   "execution_count": 13,
   "metadata": {},
   "outputs": [
    {
     "data": {
      "text/plain": [
       "numpy.datetime64('2021-01-01T00:00')"
      ]
     },
     "execution_count": 13,
     "metadata": {},
     "output_type": "execute_result"
    }
   ],
   "source": [
    "minutes[0]"
   ]
  },
  {
   "cell_type": "code",
   "execution_count": 17,
   "metadata": {},
   "outputs": [],
   "source": [
    "lon = 71.0589\n",
    "lat = 42.3601\n",
    "positions = suncalc.get_position(minutes, lon, lat)\n",
    "times = suncalc.get_times(minutes[0], lon, lat)"
   ]
  },
  {
   "cell_type": "code",
   "execution_count": 18,
   "metadata": {},
   "outputs": [
    {
     "data": {
      "text/plain": [
       "{'solar_noon': Timestamp('1970-01-01 07:20:31.601835787'),\n",
       " 'nadir': Timestamp('1969-12-31 19:20:31.601835788'),\n",
       " 'sunrise': Timestamp('1970-01-01 02:46:15.452511012'),\n",
       " 'sunset': Timestamp('1970-01-01 11:54:47.751160562'),\n",
       " 'sunrise_end': Timestamp('1970-01-01 02:49:38.051331639'),\n",
       " 'sunset_start': Timestamp('1970-01-01 11:51:25.152339935'),\n",
       " 'dawn': Timestamp('1970-01-01 02:14:26.996799409'),\n",
       " 'dusk': Timestamp('1970-01-01 12:26:36.206872165'),\n",
       " 'nautical_dawn': Timestamp('1970-01-01 01:39:08.629894852'),\n",
       " 'nautical_dusk': Timestamp('1970-01-01 13:01:54.573776721'),\n",
       " 'night_end': Timestamp('1970-01-01 01:05:02.916549146'),\n",
       " 'night': Timestamp('1970-01-01 13:36:00.287122428'),\n",
       " 'golden_hour_end': Timestamp('1970-01-01 03:31:22.859753072'),\n",
       " 'golden_hour': Timestamp('1970-01-01 11:09:40.343918502')}"
      ]
     },
     "execution_count": 18,
     "metadata": {},
     "output_type": "execute_result"
    }
   ],
   "source": [
    "times"
   ]
  },
  {
   "cell_type": "code",
   "execution_count": null,
   "metadata": {},
   "outputs": [],
   "source": []
  }
 ],
 "metadata": {
  "kernelspec": {
   "display_name": "Python 3",
   "language": "python",
   "name": "python3"
  },
  "language_info": {
   "codemirror_mode": {
    "name": "ipython",
    "version": 3
   },
   "file_extension": ".py",
   "mimetype": "text/x-python",
   "name": "python",
   "nbconvert_exporter": "python",
   "pygments_lexer": "ipython3",
   "version": "3.8.5"
  }
 },
 "nbformat": 4,
 "nbformat_minor": 4
}

{
 "cells": [
  {
   "cell_type": "code",
   "execution_count": 1,
   "metadata": {},
   "outputs": [],
   "source": [
    "import numpy as np\n",
    "import suncalc\n",
    "import drawSvg as draw\n",
    "\n",
    "# from numba import jit\n",
    "from datetime import datetime\n",
    "\n",
    "import random\n",
    "# import pandas as pd"
   ]
  },
  {
   "cell_type": "code",
   "execution_count": 2,
   "metadata": {},
   "outputs": [],
   "source": [
    "def base_date_arr(year):\n",
    "    days = np.arange(str(year), str(year+1), dtype='datetime64[D]')\n",
    "\n",
    "    # get minutes in each day as row vector\n",
    "    lst = []\n",
    "    for day in days:\n",
    "        lst.append(np.arange(day, day+1, dtype='datetime64[m]'))\n",
    "\n",
    "    # construct np.array\n",
    "    lst_arr = np.array(lst)\n",
    "    # transpose to get minutes as column vectors\n",
    "    arr_dt64_noflip = lst_arr.T\n",
    "    # flip array along axis 0 since SVG is filled from bottom left corner\n",
    "    arr_dt64 = np.flip(arr_dt64_noflip, axis=0)\n",
    "    \n",
    "    return arr_dt64\n",
    "\n",
    "# get days in a year\n",
    "year = 2021\n",
    "arr_dt64 = base_date_arr(year)"
   ]
  },
  {
   "cell_type": "code",
   "execution_count": 3,
   "metadata": {
    "scrolled": true
   },
   "outputs": [
    {
     "name": "stderr",
     "output_type": "stream",
     "text": [
      "<ipython-input-3-0fefeeef9e42>:4: DeprecationWarning: parsing timezone aware datetimes is deprecated; this will raise an error in the future\n",
      "  ts = (dt64 - np.datetime64('1970-01-01T00:00:00Z')) / np.timedelta64(1, 's')\n"
     ]
    }
   ],
   "source": [
    "# convert from array of datetime64 to normal datetime with the UTC timestamp attached\n",
    "def dt64_to_dtUTC_noVec(dt64):\n",
    "    dt64 = np.datetime64(dt64)\n",
    "    ts = (dt64 - np.datetime64('1970-01-01T00:00:00Z')) / np.timedelta64(1, 's')\n",
    "    return datetime.utcfromtimestamp(ts)\n",
    "\n",
    "dt64_to_dtUTC = np.vectorize(dt64_to_dtUTC_noVec)\n",
    "\n",
    "arr_dtUTC = dt64_to_dtUTC(arr_dt64)"
   ]
  },
  {
   "cell_type": "code",
   "execution_count": 4,
   "metadata": {},
   "outputs": [],
   "source": [
    "# display(pd.DataFrame(arr_dtUTC))\n",
    "# type(arr_dtUTC[0,0])"
   ]
  },
  {
   "cell_type": "code",
   "execution_count": 5,
   "metadata": {},
   "outputs": [],
   "source": [
    "# display(pd.DataFrame(colored))"
   ]
  },
  {
   "cell_type": "code",
   "execution_count": 6,
   "metadata": {},
   "outputs": [],
   "source": [
    "# for each timestamp, get sun azimuth and altitude\n",
    "# then convert that into a color\n",
    "def pos_noVec(ts, lon, lat):\n",
    "    azi_alt = suncalc.get_position(ts, lon, lat)\n",
    "    azi = azi_alt['azimuth']\n",
    "    alt = azi_alt['altitude']\n",
    "    # color = dan_color(azi, alt)\n",
    "    return azi_alt\n",
    "\n",
    "pos = np.vectorize(pos_noVec)\n",
    "\n",
    "lon = 71.0589\n",
    "lat = 42.3601\n",
    "\n",
    "out = pos(arr_dtUTC, lon, lat)\n",
    "# display(pd.DataFrame(out))"
   ]
  },
  {
   "cell_type": "code",
   "execution_count": 7,
   "metadata": {},
   "outputs": [],
   "source": [
    "# arr_dtUTC.shape"
   ]
  },
  {
   "cell_type": "code",
   "execution_count": 8,
   "metadata": {},
   "outputs": [],
   "source": [
    "# NOT IN USE\n",
    "# TTD function to convert time into color\n",
    "def time_to_color(time):\n",
    "    color = \"%06x\" % random.randint(0, 0xFFFFFF)\n",
    "    return color\n",
    "\n",
    "vf = np.vectorize(time_to_color)\n",
    "\n",
    "z = np.zeros((1440,365))\n",
    "\n",
    "colored = vf(z)"
   ]
  },
  {
   "cell_type": "code",
   "execution_count": 9,
   "metadata": {},
   "outputs": [],
   "source": [
    "# display(pd.DataFrame(colored))"
   ]
  },
  {
   "cell_type": "code",
   "execution_count": 10,
   "metadata": {},
   "outputs": [],
   "source": [
    "width = 1920\n",
    "height = 1080\n",
    "\n",
    "x_tick = width / 365 # days in a year\n",
    "y_tick = height / 1440 # min in a day\n",
    "\n",
    "d = draw.Drawing(width, height, displayInline=False)\n",
    "\n",
    "def gen_svg(colors, d, width, height, x_tick, y_tick):\n",
    "    # x is the axis 1 index\n",
    "    # y is the axis 0 index\n",
    "    # index tuple is (y,x)\n",
    "    \n",
    "    it = np.nditer(colors, flags=['multi_index'])\n",
    "    for color in it:\n",
    "        y = it.multi_index[0] * y_tick\n",
    "        x = it.multi_index[1] * x_tick\n",
    "        r = draw.Rectangle(x, y, x_tick, y_tick, fill=f'#{color}')\n",
    "        d.append(r)\n",
    "\n",
    "gen_svg(colored, d, width, height, x_tick, y_tick)\n",
    "\n",
    "d.setPixelScale(2)  # Set number of pixels per geometry unit\n",
    "\n",
    "d.saveSvg('new.svg')\n",
    "# d  # Display as SVG"
   ]
  },
  {
   "cell_type": "code",
   "execution_count": null,
   "metadata": {},
   "outputs": [],
   "source": []
  },
  {
   "cell_type": "code",
   "execution_count": null,
   "metadata": {},
   "outputs": [],
   "source": []
  },
  {
   "cell_type": "code",
   "execution_count": null,
   "metadata": {},
   "outputs": [],
   "source": []
  },
  {
   "cell_type": "code",
   "execution_count": null,
   "metadata": {},
   "outputs": [],
   "source": []
  }
 ],
 "metadata": {
  "kernelspec": {
   "display_name": "Python 3",
   "language": "python",
   "name": "python3"
  },
  "language_info": {
   "codemirror_mode": {
    "name": "ipython",
    "version": 3
   },
   "file_extension": ".py",
   "mimetype": "text/x-python",
   "name": "python",
   "nbconvert_exporter": "python",
   "pygments_lexer": "ipython3",
   "version": "3.8.5"
  }
 },
 "nbformat": 4,
 "nbformat_minor": 4
}

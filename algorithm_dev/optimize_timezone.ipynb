{
 "cells": [
  {
   "cell_type": "code",
   "execution_count": null,
   "metadata": {},
   "outputs": [],
   "source": [
    "import numpy as np\n",
    "\n",
    "from datetime import datetime, timezone\n",
    "from tzwhere import tzwhere\n",
    "import pytz\n",
    "import timezonefinder"
   ]
  },
  {
   "cell_type": "code",
   "execution_count": null,
   "metadata": {},
   "outputs": [],
   "source": [
    "# array of UTC timestamps as naive datetime objects\n",
    "def base_date_arr(year: int):\n",
    "    start_time = np.datetime64(str(year))\n",
    "    end_time = np.datetime64(str(year + 1))\n",
    "\n",
    "    arr_dt_1d = np.arange(start_time, end_time, dtype='datetime64[m]').astype(datetime)  # 1D array\n",
    "\n",
    "    return arr_dt_1d"
   ]
  },
  {
   "cell_type": "code",
   "execution_count": null,
   "metadata": {},
   "outputs": [],
   "source": [
    "# array of naive timestamps to array of time zone aware timestamps\n",
    "def to_utc(arr, lon, lat, use_dst: bool):\n",
    "    # tz_str = tzwhere.tzwhere().tzNameAt(lat, lon)\n",
    "    \n",
    "    tz_str = timezonefinder.TimezoneFinder().certain_timezone_at(lat=lat, lng=lon)\n",
    "    tz = pytz.timezone(tz_str)\n",
    "\n",
    "    def one_dt_utc(dt):\n",
    "        return (dt - offset).replace(tzinfo=timezone.utc)\n",
    "\n",
    "    def one_dt_localized(dt):\n",
    "        return tz.localize(dt).astimezone(pytz.utc)\n",
    "\n",
    "    if use_dst:\n",
    "        return np.vectorize(one_dt_localized)(arr)\n",
    "    else:\n",
    "        # offset = tz.utcoffset(arr[0, 0], is_dst=False)\n",
    "        offset = tz.utcoffset(arr[0], is_dst=False)\n",
    "        return np.vectorize(one_dt_utc)(arr)"
   ]
  },
  {
   "cell_type": "code",
   "execution_count": null,
   "metadata": {},
   "outputs": [],
   "source": [
    "year = 2021\n",
    "\n",
    "lon = 144.9631\n",
    "lat = -37.8136\n",
    "\n",
    "\n",
    "print('Building array of datetime objects...')\n",
    "bef = datetime.now()\n",
    "arr_dt = base_date_arr(year)  # naive timestamps as datetime.datetime\n",
    "af = datetime.now() - bef\n",
    "print(f'Took {af}')\n",
    "\n",
    "print('Converting dates to UTC...')\n",
    "bef = datetime.now()\n",
    "arr_utc = to_utc(arr_dt, lon, lat, use_dst=True)\n",
    "af = datetime.now() - bef\n",
    "print(f'Took {af}')"
   ]
  },
  {
   "cell_type": "code",
   "execution_count": null,
   "metadata": {},
   "outputs": [],
   "source": []
  },
  {
   "cell_type": "code",
   "execution_count": null,
   "metadata": {},
   "outputs": [],
   "source": [
    "bef = datetime.now()\n",
    "\n",
    "tz_str = tzwhere.tzwhere().tzNameAt(lat, lon)\n",
    "tz = pytz.timezone(tz_str)\n",
    "# tz.localize(arr_dt).astimezone(pytz.utc)\n",
    "\n",
    "af = datetime.now() - bef\n",
    "print(f'Took {af}')"
   ]
  },
  {
   "cell_type": "code",
   "execution_count": 1,
   "metadata": {},
   "outputs": [
    {
     "name": "stdout",
     "output_type": "stream",
     "text": [
      "Took 0:00:00.508562\n"
     ]
    }
   ],
   "source": [
    "from datetime import datetime\n",
    "lon = 144.9631\n",
    "lat = -37.8136\n",
    "\n",
    "\n",
    "bef = datetime.now()\n",
    "\n",
    "import timezonefinder\n",
    "\n",
    "tf = timezonefinder.TimezoneFinder()\n",
    "timezone_str = tf.certain_timezone_at(lat=lat, lng=lon)\n",
    "\n",
    "af = datetime.now() - bef\n",
    "print(f'Took {af}')"
   ]
  },
  {
   "cell_type": "code",
   "execution_count": null,
   "metadata": {},
   "outputs": [],
   "source": [
    "offset = tz.utcoffset(arr_dt[0], is_dst=False)\n",
    "(arr_dt - offset).replace(tzinfo=timezone.utc)"
   ]
  },
  {
   "cell_type": "code",
   "execution_count": null,
   "metadata": {},
   "outputs": [],
   "source": []
  },
  {
   "cell_type": "code",
   "execution_count": null,
   "metadata": {},
   "outputs": [],
   "source": []
  }
 ],
 "metadata": {
  "kernelspec": {
   "display_name": "Python 3",
   "language": "python",
   "name": "python3"
  },
  "language_info": {
   "codemirror_mode": {
    "name": "ipython",
    "version": 3
   },
   "file_extension": ".py",
   "mimetype": "text/x-python",
   "name": "python",
   "nbconvert_exporter": "python",
   "pygments_lexer": "ipython3",
   "version": "3.8.5"
  }
 },
 "nbformat": 4,
 "nbformat_minor": 4
}

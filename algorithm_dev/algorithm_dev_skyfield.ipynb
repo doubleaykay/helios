{
 "cells": [
  {
   "cell_type": "code",
   "execution_count": 2,
   "metadata": {},
   "outputs": [],
   "source": [
    "import numpy as np\n",
    "from skyfield.api import load"
   ]
  },
  {
   "cell_type": "code",
   "execution_count": 26,
   "metadata": {},
   "outputs": [],
   "source": [
    "ts = load.timescale()\n",
    "# ts.utc(2021, range(1, 13), range(1, 32), range(1, 25), range(1, 61))\n",
    "# arr = ts.utc(2021, range(1, 13))\n",
    "# arr = ts.utc(2021, 2, range(1, 32))\n",
    "# utc(year, month=1, day=1, hour=0, minute=0, second=0.0)\n",
    "# arr = ts.utc(2021, day=range(1, 366), minute=range(1, 61))"
   ]
  },
  {
   "cell_type": "code",
   "execution_count": null,
   "metadata": {},
   "outputs": [],
   "source": [
    "# Y M D h m"
   ]
  },
  {
   "cell_type": "code",
   "execution_count": 23,
   "metadata": {},
   "outputs": [
    {
     "name": "stdout",
     "output_type": "stream",
     "text": [
      "2021-01-01 00:01\n",
      "2021-01-01 00:02\n",
      "2021-01-01 00:03\n",
      "2021-01-01 00:04\n",
      "2021-01-01 00:05\n",
      "2021-01-01 00:06\n",
      "2021-01-01 00:07\n",
      "2021-01-01 00:08\n",
      "2021-01-01 00:09\n",
      "2021-01-01 00:10\n",
      "2021-01-01 00:11\n",
      "2021-01-01 00:12\n",
      "2021-01-01 00:13\n",
      "2021-01-01 00:14\n",
      "2021-01-01 00:15\n",
      "2021-01-01 00:16\n",
      "2021-01-01 00:17\n",
      "2021-01-01 00:18\n",
      "2021-01-01 00:19\n",
      "2021-01-01 00:20\n",
      "2021-01-01 00:21\n",
      "2021-01-01 00:22\n",
      "2021-01-01 00:23\n",
      "2021-01-01 00:24\n",
      "2021-01-01 00:25\n",
      "2021-01-01 00:26\n",
      "2021-01-01 00:27\n",
      "2021-01-01 00:28\n",
      "2021-01-01 00:29\n",
      "2021-01-01 00:30\n",
      "2021-01-01 00:31\n",
      "2021-01-01 00:32\n",
      "2021-01-01 00:33\n",
      "2021-01-01 00:34\n",
      "2021-01-01 00:35\n",
      "2021-01-01 00:36\n",
      "2021-01-01 00:37\n",
      "2021-01-01 00:38\n",
      "2021-01-01 00:39\n",
      "2021-01-01 00:40\n",
      "2021-01-01 00:41\n",
      "2021-01-01 00:42\n",
      "2021-01-01 00:43\n",
      "2021-01-01 00:44\n",
      "2021-01-01 00:45\n",
      "2021-01-01 00:46\n",
      "2021-01-01 00:47\n",
      "2021-01-01 00:48\n",
      "2021-01-01 00:49\n",
      "2021-01-01 00:50\n",
      "2021-01-01 00:51\n",
      "2021-01-01 00:52\n",
      "2021-01-01 00:53\n",
      "2021-01-01 00:54\n",
      "2021-01-01 00:55\n",
      "2021-01-01 00:56\n",
      "2021-01-01 00:57\n",
      "2021-01-01 00:58\n",
      "2021-01-01 00:59\n",
      "2021-01-01 01:00\n"
     ]
    }
   ],
   "source": [
    "for s in arr.utc_strftime('%Y-%m-%d %H:%M'):\n",
    "    print(s)"
   ]
  },
  {
   "cell_type": "code",
   "execution_count": null,
   "metadata": {},
   "outputs": [],
   "source": []
  }
 ],
 "metadata": {
  "kernelspec": {
   "display_name": "Python 3",
   "language": "python",
   "name": "python3"
  },
  "language_info": {
   "codemirror_mode": {
    "name": "ipython",
    "version": 3
   },
   "file_extension": ".py",
   "mimetype": "text/x-python",
   "name": "python",
   "nbconvert_exporter": "python",
   "pygments_lexer": "ipython3",
   "version": "3.8.5"
  }
 },
 "nbformat": 4,
 "nbformat_minor": 4
}
